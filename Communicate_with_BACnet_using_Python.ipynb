{
 "cells": [
  {
   "cell_type": "markdown",
   "id": "391a105c",
   "metadata": {},
   "source": [
    "# Visualizing Data from BACnet Simulator via Python"
   ]
  },
  {
   "cell_type": "markdown",
   "id": "0d1d33a5",
   "metadata": {},
   "source": [
    "### 1. Starting\n",
    "\n",
    "- Download Windows YABE from: https://sourceforge.net/projects/yetanotherbacnetexplorer/\n",
    "- Once installed, go to Windows Start button > All Programs > Yabe folder and run Yabe (with a magnifying glass logo) and Bacnet.Room.Simulator app.\n",
    "- Connect the simulator by clicking on the green plus logo (Add Channel) and clickingon the Start button corresponding to BAC0 port.\n",
    "- Double click on the Device onject to display the object's items.\n",
    "- Click on drag on any of the objects into the Subscriptions, Periodic Polling, Events/Alarms tab to display its values.\n",
    "- Check on all or any of the devices to show the plots. \n",
    "\n",
    "<img src=\"Yabe_explorer.png\">\n",
    "<br>\n",
    "<img src=\"room_control_simulator.png\">\n",
    "<br>\n",
    "\n",
    "- Start a jupyter notebook on your computer via anaconda prompt.\n",
    "\n",
    "reference: \n",
    "\n",
    "- code is adapted from: https://github.com/techbeast-org/bacnet-ip/tree/master\n",
    "- instruction video: https://www.youtube.com/watch?v=TyEXDnjBsD8"
   ]
  },
  {
   "cell_type": "markdown",
   "id": "deda60d5",
   "metadata": {},
   "source": [
    "### 2. Install the necessary libraries:"
   ]
  },
  {
   "cell_type": "code",
   "execution_count": 1,
   "id": "0a227e7e",
   "metadata": {},
   "outputs": [
    {
     "name": "stdout",
     "output_type": "stream",
     "text": [
      "Requirement already satisfied: BAC0==21.12.3 in c:\\users\\ray_g\\.conda\\envs\\finance_py37\\lib\\site-packages (21.12.3)\n",
      "Requirement already satisfied: bacpypes==0.18.6 in c:\\users\\ray_g\\.conda\\envs\\finance_py37\\lib\\site-packages (0.18.6)\n",
      "Requirement already satisfied: colorama==0.4.4 in c:\\users\\ray_g\\.conda\\envs\\finance_py37\\lib\\site-packages (0.4.4)\n"
     ]
    },
    {
     "name": "stderr",
     "output_type": "stream",
     "text": [
      "WARNING: There was an error checking the latest version of pip.\n"
     ]
    }
   ],
   "source": [
    "!pip install BAC0==21.12.3 bacpypes==0.18.6 colorama==0.4.4"
   ]
  },
  {
   "cell_type": "code",
   "execution_count": 1,
   "id": "a8ba5fd0",
   "metadata": {
    "scrolled": true
   },
   "outputs": [
    {
     "name": "stderr",
     "output_type": "stream",
     "text": [
      "WARNING: Skipping pandas as it is not installed.\n"
     ]
    },
    {
     "name": "stdout",
     "output_type": "stream",
     "text": [
      "Collecting pandas==1.3.5\n",
      "  Using cached pandas-1.3.5-cp37-cp37m-win32.whl (8.9 MB)\n",
      "Requirement already satisfied: numpy>=1.17.3 in c:\\users\\ray_g\\.conda\\envs\\finance_py37\\lib\\site-packages (from pandas==1.3.5) (1.21.6)\n",
      "Requirement already satisfied: python-dateutil>=2.7.3 in c:\\users\\ray_g\\.conda\\envs\\finance_py37\\lib\\site-packages (from pandas==1.3.5) (2.8.2)\n"
     ]
    },
    {
     "name": "stderr",
     "output_type": "stream",
     "text": [
      "ERROR: pip's dependency resolver does not currently take into account all the packages that are installed. This behaviour is the source of the following dependency conflicts.\n",
      "pydexp 1.0.0 requires numpy<=1.21.2,>=1.18.0, but you have numpy 1.21.6 which is incompatible.\n",
      "pydexp 1.0.0 requires pandas<=1.3.3,>=1.0.0, but you have pandas 1.3.5 which is incompatible.\n",
      "WARNING: There was an error checking the latest version of pip.\n"
     ]
    },
    {
     "name": "stdout",
     "output_type": "stream",
     "text": [
      "Requirement already satisfied: pytz>=2017.3 in c:\\users\\ray_g\\.conda\\envs\\finance_py37\\lib\\site-packages (from pandas==1.3.5) (2021.3)\n",
      "Requirement already satisfied: six>=1.5 in c:\\users\\ray_g\\.conda\\envs\\finance_py37\\lib\\site-packages (from python-dateutil>=2.7.3->pandas==1.3.5) (1.16.0)\n",
      "Installing collected packages: pandas\n",
      "Successfully installed pandas-1.3.5\n"
     ]
    }
   ],
   "source": [
    "#update a compatible pandas library\n",
    "!pip uninstall -y pandas\n",
    "!pip install pandas==1.3.5"
   ]
  },
  {
   "cell_type": "code",
   "execution_count": 16,
   "id": "5c94a830",
   "metadata": {},
   "outputs": [
    {
     "name": "stdout",
     "output_type": "stream",
     "text": [
      "Requirement already satisfied: plotly in c:\\users\\ray_g\\.conda\\envs\\finance_py37\\lib\\site-packages (5.18.0)"
     ]
    },
    {
     "name": "stderr",
     "output_type": "stream",
     "text": [
      "WARNING: There was an error checking the latest version of pip.\n"
     ]
    },
    {
     "name": "stdout",
     "output_type": "stream",
     "text": [
      "\n",
      "Requirement already satisfied: packaging in c:\\users\\ray_g\\.conda\\envs\\finance_py37\\lib\\site-packages (from plotly) (21.3)\n",
      "Requirement already satisfied: tenacity>=6.2.0 in c:\\users\\ray_g\\.conda\\envs\\finance_py37\\lib\\site-packages (from plotly) (8.2.3)\n",
      "Requirement already satisfied: pyparsing!=3.0.5,>=2.0.2 in c:\\users\\ray_g\\.conda\\envs\\finance_py37\\lib\\site-packages (from packaging->plotly) (3.0.4)\n"
     ]
    }
   ],
   "source": [
    "#Install plotly\n",
    "!pip install plotly"
   ]
  },
  {
   "cell_type": "markdown",
   "id": "ca4f655b",
   "metadata": {},
   "source": [
    "### 3. Communicate with Yabe and display a live data in a graph.\n",
    "\n",
    "Make sure to input your own local ip address and specify the device's BACnet/I UDP port number (obtained from Yabe explorer):\n",
    "- 192.168.1.66 → the device’s IP address\n",
    "- 58956 → the device’s BACnet/IP UDP port"
   ]
  },
  {
   "cell_type": "code",
   "execution_count": 12,
   "id": "c3e27bbd",
   "metadata": {},
   "outputs": [
    {
     "data": {
      "application/vnd.plotly.v1+json": {
       "config": {
        "plotlyServerURL": "https://plot.ly"
       },
       "data": [
        {
         "mode": "lines+markers",
         "name": "Analog_input0",
         "type": "scatter",
         "x": [
          0.2,
          2.4,
          4.6,
          6.9
         ],
         "y": [
          70.0999984741211,
          69.5999984741211,
          69.19999694824219,
          70.30000305175781
         ]
        },
        {
         "mode": "lines+markers",
         "name": "Analog_input1",
         "type": "scatter",
         "x": [
          0.2,
          2.4,
          4.6,
          6.9
         ],
         "y": [
          101.69999694824219,
          102.5999984741211,
          103.5,
          103.80000305175781
         ]
        },
        {
         "mode": "lines+markers",
         "name": "Analog_input2",
         "type": "scatter",
         "x": [
          0.2,
          2.4,
          4.6,
          6.9
         ],
         "y": [
          53.599998474121094,
          53.599998474121094,
          53.599998474121094,
          53.599998474121094
         ]
        }
       ],
       "layout": {
        "height": 500,
        "template": {
         "data": {
          "bar": [
           {
            "error_x": {
             "color": "#f2f5fa"
            },
            "error_y": {
             "color": "#f2f5fa"
            },
            "marker": {
             "line": {
              "color": "rgb(17,17,17)",
              "width": 0.5
             },
             "pattern": {
              "fillmode": "overlay",
              "size": 10,
              "solidity": 0.2
             }
            },
            "type": "bar"
           }
          ],
          "barpolar": [
           {
            "marker": {
             "line": {
              "color": "rgb(17,17,17)",
              "width": 0.5
             },
             "pattern": {
              "fillmode": "overlay",
              "size": 10,
              "solidity": 0.2
             }
            },
            "type": "barpolar"
           }
          ],
          "carpet": [
           {
            "aaxis": {
             "endlinecolor": "#A2B1C6",
             "gridcolor": "#506784",
             "linecolor": "#506784",
             "minorgridcolor": "#506784",
             "startlinecolor": "#A2B1C6"
            },
            "baxis": {
             "endlinecolor": "#A2B1C6",
             "gridcolor": "#506784",
             "linecolor": "#506784",
             "minorgridcolor": "#506784",
             "startlinecolor": "#A2B1C6"
            },
            "type": "carpet"
           }
          ],
          "choropleth": [
           {
            "colorbar": {
             "outlinewidth": 0,
             "ticks": ""
            },
            "type": "choropleth"
           }
          ],
          "contour": [
           {
            "colorbar": {
             "outlinewidth": 0,
             "ticks": ""
            },
            "colorscale": [
             [
              0,
              "#0d0887"
             ],
             [
              0.1111111111111111,
              "#46039f"
             ],
             [
              0.2222222222222222,
              "#7201a8"
             ],
             [
              0.3333333333333333,
              "#9c179e"
             ],
             [
              0.4444444444444444,
              "#bd3786"
             ],
             [
              0.5555555555555556,
              "#d8576b"
             ],
             [
              0.6666666666666666,
              "#ed7953"
             ],
             [
              0.7777777777777778,
              "#fb9f3a"
             ],
             [
              0.8888888888888888,
              "#fdca26"
             ],
             [
              1,
              "#f0f921"
             ]
            ],
            "type": "contour"
           }
          ],
          "contourcarpet": [
           {
            "colorbar": {
             "outlinewidth": 0,
             "ticks": ""
            },
            "type": "contourcarpet"
           }
          ],
          "heatmap": [
           {
            "colorbar": {
             "outlinewidth": 0,
             "ticks": ""
            },
            "colorscale": [
             [
              0,
              "#0d0887"
             ],
             [
              0.1111111111111111,
              "#46039f"
             ],
             [
              0.2222222222222222,
              "#7201a8"
             ],
             [
              0.3333333333333333,
              "#9c179e"
             ],
             [
              0.4444444444444444,
              "#bd3786"
             ],
             [
              0.5555555555555556,
              "#d8576b"
             ],
             [
              0.6666666666666666,
              "#ed7953"
             ],
             [
              0.7777777777777778,
              "#fb9f3a"
             ],
             [
              0.8888888888888888,
              "#fdca26"
             ],
             [
              1,
              "#f0f921"
             ]
            ],
            "type": "heatmap"
           }
          ],
          "heatmapgl": [
           {
            "colorbar": {
             "outlinewidth": 0,
             "ticks": ""
            },
            "colorscale": [
             [
              0,
              "#0d0887"
             ],
             [
              0.1111111111111111,
              "#46039f"
             ],
             [
              0.2222222222222222,
              "#7201a8"
             ],
             [
              0.3333333333333333,
              "#9c179e"
             ],
             [
              0.4444444444444444,
              "#bd3786"
             ],
             [
              0.5555555555555556,
              "#d8576b"
             ],
             [
              0.6666666666666666,
              "#ed7953"
             ],
             [
              0.7777777777777778,
              "#fb9f3a"
             ],
             [
              0.8888888888888888,
              "#fdca26"
             ],
             [
              1,
              "#f0f921"
             ]
            ],
            "type": "heatmapgl"
           }
          ],
          "histogram": [
           {
            "marker": {
             "pattern": {
              "fillmode": "overlay",
              "size": 10,
              "solidity": 0.2
             }
            },
            "type": "histogram"
           }
          ],
          "histogram2d": [
           {
            "colorbar": {
             "outlinewidth": 0,
             "ticks": ""
            },
            "colorscale": [
             [
              0,
              "#0d0887"
             ],
             [
              0.1111111111111111,
              "#46039f"
             ],
             [
              0.2222222222222222,
              "#7201a8"
             ],
             [
              0.3333333333333333,
              "#9c179e"
             ],
             [
              0.4444444444444444,
              "#bd3786"
             ],
             [
              0.5555555555555556,
              "#d8576b"
             ],
             [
              0.6666666666666666,
              "#ed7953"
             ],
             [
              0.7777777777777778,
              "#fb9f3a"
             ],
             [
              0.8888888888888888,
              "#fdca26"
             ],
             [
              1,
              "#f0f921"
             ]
            ],
            "type": "histogram2d"
           }
          ],
          "histogram2dcontour": [
           {
            "colorbar": {
             "outlinewidth": 0,
             "ticks": ""
            },
            "colorscale": [
             [
              0,
              "#0d0887"
             ],
             [
              0.1111111111111111,
              "#46039f"
             ],
             [
              0.2222222222222222,
              "#7201a8"
             ],
             [
              0.3333333333333333,
              "#9c179e"
             ],
             [
              0.4444444444444444,
              "#bd3786"
             ],
             [
              0.5555555555555556,
              "#d8576b"
             ],
             [
              0.6666666666666666,
              "#ed7953"
             ],
             [
              0.7777777777777778,
              "#fb9f3a"
             ],
             [
              0.8888888888888888,
              "#fdca26"
             ],
             [
              1,
              "#f0f921"
             ]
            ],
            "type": "histogram2dcontour"
           }
          ],
          "mesh3d": [
           {
            "colorbar": {
             "outlinewidth": 0,
             "ticks": ""
            },
            "type": "mesh3d"
           }
          ],
          "parcoords": [
           {
            "line": {
             "colorbar": {
              "outlinewidth": 0,
              "ticks": ""
             }
            },
            "type": "parcoords"
           }
          ],
          "pie": [
           {
            "automargin": true,
            "type": "pie"
           }
          ],
          "scatter": [
           {
            "marker": {
             "line": {
              "color": "#283442"
             }
            },
            "type": "scatter"
           }
          ],
          "scatter3d": [
           {
            "line": {
             "colorbar": {
              "outlinewidth": 0,
              "ticks": ""
             }
            },
            "marker": {
             "colorbar": {
              "outlinewidth": 0,
              "ticks": ""
             }
            },
            "type": "scatter3d"
           }
          ],
          "scattercarpet": [
           {
            "marker": {
             "colorbar": {
              "outlinewidth": 0,
              "ticks": ""
             }
            },
            "type": "scattercarpet"
           }
          ],
          "scattergeo": [
           {
            "marker": {
             "colorbar": {
              "outlinewidth": 0,
              "ticks": ""
             }
            },
            "type": "scattergeo"
           }
          ],
          "scattergl": [
           {
            "marker": {
             "line": {
              "color": "#283442"
             }
            },
            "type": "scattergl"
           }
          ],
          "scattermapbox": [
           {
            "marker": {
             "colorbar": {
              "outlinewidth": 0,
              "ticks": ""
             }
            },
            "type": "scattermapbox"
           }
          ],
          "scatterpolar": [
           {
            "marker": {
             "colorbar": {
              "outlinewidth": 0,
              "ticks": ""
             }
            },
            "type": "scatterpolar"
           }
          ],
          "scatterpolargl": [
           {
            "marker": {
             "colorbar": {
              "outlinewidth": 0,
              "ticks": ""
             }
            },
            "type": "scatterpolargl"
           }
          ],
          "scatterternary": [
           {
            "marker": {
             "colorbar": {
              "outlinewidth": 0,
              "ticks": ""
             }
            },
            "type": "scatterternary"
           }
          ],
          "surface": [
           {
            "colorbar": {
             "outlinewidth": 0,
             "ticks": ""
            },
            "colorscale": [
             [
              0,
              "#0d0887"
             ],
             [
              0.1111111111111111,
              "#46039f"
             ],
             [
              0.2222222222222222,
              "#7201a8"
             ],
             [
              0.3333333333333333,
              "#9c179e"
             ],
             [
              0.4444444444444444,
              "#bd3786"
             ],
             [
              0.5555555555555556,
              "#d8576b"
             ],
             [
              0.6666666666666666,
              "#ed7953"
             ],
             [
              0.7777777777777778,
              "#fb9f3a"
             ],
             [
              0.8888888888888888,
              "#fdca26"
             ],
             [
              1,
              "#f0f921"
             ]
            ],
            "type": "surface"
           }
          ],
          "table": [
           {
            "cells": {
             "fill": {
              "color": "#506784"
             },
             "line": {
              "color": "rgb(17,17,17)"
             }
            },
            "header": {
             "fill": {
              "color": "#2a3f5f"
             },
             "line": {
              "color": "rgb(17,17,17)"
             }
            },
            "type": "table"
           }
          ]
         },
         "layout": {
          "annotationdefaults": {
           "arrowcolor": "#f2f5fa",
           "arrowhead": 0,
           "arrowwidth": 1
          },
          "autotypenumbers": "strict",
          "coloraxis": {
           "colorbar": {
            "outlinewidth": 0,
            "ticks": ""
           }
          },
          "colorscale": {
           "diverging": [
            [
             0,
             "#8e0152"
            ],
            [
             0.1,
             "#c51b7d"
            ],
            [
             0.2,
             "#de77ae"
            ],
            [
             0.3,
             "#f1b6da"
            ],
            [
             0.4,
             "#fde0ef"
            ],
            [
             0.5,
             "#f7f7f7"
            ],
            [
             0.6,
             "#e6f5d0"
            ],
            [
             0.7,
             "#b8e186"
            ],
            [
             0.8,
             "#7fbc41"
            ],
            [
             0.9,
             "#4d9221"
            ],
            [
             1,
             "#276419"
            ]
           ],
           "sequential": [
            [
             0,
             "#0d0887"
            ],
            [
             0.1111111111111111,
             "#46039f"
            ],
            [
             0.2222222222222222,
             "#7201a8"
            ],
            [
             0.3333333333333333,
             "#9c179e"
            ],
            [
             0.4444444444444444,
             "#bd3786"
            ],
            [
             0.5555555555555556,
             "#d8576b"
            ],
            [
             0.6666666666666666,
             "#ed7953"
            ],
            [
             0.7777777777777778,
             "#fb9f3a"
            ],
            [
             0.8888888888888888,
             "#fdca26"
            ],
            [
             1,
             "#f0f921"
            ]
           ],
           "sequentialminus": [
            [
             0,
             "#0d0887"
            ],
            [
             0.1111111111111111,
             "#46039f"
            ],
            [
             0.2222222222222222,
             "#7201a8"
            ],
            [
             0.3333333333333333,
             "#9c179e"
            ],
            [
             0.4444444444444444,
             "#bd3786"
            ],
            [
             0.5555555555555556,
             "#d8576b"
            ],
            [
             0.6666666666666666,
             "#ed7953"
            ],
            [
             0.7777777777777778,
             "#fb9f3a"
            ],
            [
             0.8888888888888888,
             "#fdca26"
            ],
            [
             1,
             "#f0f921"
            ]
           ]
          },
          "colorway": [
           "#636efa",
           "#EF553B",
           "#00cc96",
           "#ab63fa",
           "#FFA15A",
           "#19d3f3",
           "#FF6692",
           "#B6E880",
           "#FF97FF",
           "#FECB52"
          ],
          "font": {
           "color": "#f2f5fa"
          },
          "geo": {
           "bgcolor": "rgb(17,17,17)",
           "lakecolor": "rgb(17,17,17)",
           "landcolor": "rgb(17,17,17)",
           "showlakes": true,
           "showland": true,
           "subunitcolor": "#506784"
          },
          "hoverlabel": {
           "align": "left"
          },
          "hovermode": "closest",
          "mapbox": {
           "style": "dark"
          },
          "paper_bgcolor": "rgb(17,17,17)",
          "plot_bgcolor": "rgb(17,17,17)",
          "polar": {
           "angularaxis": {
            "gridcolor": "#506784",
            "linecolor": "#506784",
            "ticks": ""
           },
           "bgcolor": "rgb(17,17,17)",
           "radialaxis": {
            "gridcolor": "#506784",
            "linecolor": "#506784",
            "ticks": ""
           }
          },
          "scene": {
           "xaxis": {
            "backgroundcolor": "rgb(17,17,17)",
            "gridcolor": "#506784",
            "gridwidth": 2,
            "linecolor": "#506784",
            "showbackground": true,
            "ticks": "",
            "zerolinecolor": "#C8D4E3"
           },
           "yaxis": {
            "backgroundcolor": "rgb(17,17,17)",
            "gridcolor": "#506784",
            "gridwidth": 2,
            "linecolor": "#506784",
            "showbackground": true,
            "ticks": "",
            "zerolinecolor": "#C8D4E3"
           },
           "zaxis": {
            "backgroundcolor": "rgb(17,17,17)",
            "gridcolor": "#506784",
            "gridwidth": 2,
            "linecolor": "#506784",
            "showbackground": true,
            "ticks": "",
            "zerolinecolor": "#C8D4E3"
           }
          },
          "shapedefaults": {
           "line": {
            "color": "#f2f5fa"
           }
          },
          "sliderdefaults": {
           "bgcolor": "#C8D4E3",
           "bordercolor": "rgb(17,17,17)",
           "borderwidth": 1,
           "tickwidth": 0
          },
          "ternary": {
           "aaxis": {
            "gridcolor": "#506784",
            "linecolor": "#506784",
            "ticks": ""
           },
           "baxis": {
            "gridcolor": "#506784",
            "linecolor": "#506784",
            "ticks": ""
           },
           "bgcolor": "rgb(17,17,17)",
           "caxis": {
            "gridcolor": "#506784",
            "linecolor": "#506784",
            "ticks": ""
           }
          },
          "title": {
           "x": 0.05
          },
          "updatemenudefaults": {
           "bgcolor": "#506784",
           "borderwidth": 0
          },
          "xaxis": {
           "automargin": true,
           "gridcolor": "#283442",
           "linecolor": "#506784",
           "ticks": "",
           "title": {
            "standoff": 15
           },
           "zerolinecolor": "#283442",
           "zerolinewidth": 2
          },
          "yaxis": {
           "automargin": true,
           "gridcolor": "#283442",
           "linecolor": "#506784",
           "ticks": "",
           "title": {
            "standoff": 15
           },
           "zerolinecolor": "#283442",
           "zerolinewidth": 2
          }
         }
        },
        "title": {
         "text": "Live BACnet Analog Inputs"
        },
        "xaxis": {
         "title": {
          "text": "Time (s)"
         }
        },
        "yaxis": {
         "title": {
          "text": "Value"
         }
        }
       }
      },
      "text/html": [
       "<div>                            <div id=\"23a8c7af-eb24-4115-a833-7b743f5d21a3\" class=\"plotly-graph-div\" style=\"height:500px; width:100%;\"></div>            <script type=\"text/javascript\">                require([\"plotly\"], function(Plotly) {                    window.PLOTLYENV=window.PLOTLYENV || {};                                    if (document.getElementById(\"23a8c7af-eb24-4115-a833-7b743f5d21a3\")) {                    Plotly.newPlot(                        \"23a8c7af-eb24-4115-a833-7b743f5d21a3\",                        [{\"mode\":\"lines+markers\",\"name\":\"Analog_input0\",\"x\":[0.2,2.4,4.6,6.9],\"y\":[70.0999984741211,69.5999984741211,69.19999694824219,70.30000305175781],\"type\":\"scatter\"},{\"mode\":\"lines+markers\",\"name\":\"Analog_input1\",\"x\":[0.2,2.4,4.6,6.9],\"y\":[101.69999694824219,102.5999984741211,103.5,103.80000305175781],\"type\":\"scatter\"},{\"mode\":\"lines+markers\",\"name\":\"Analog_input2\",\"x\":[0.2,2.4,4.6,6.9],\"y\":[53.599998474121094,53.599998474121094,53.599998474121094,53.599998474121094],\"type\":\"scatter\"}],                        {\"template\":{\"data\":{\"barpolar\":[{\"marker\":{\"line\":{\"color\":\"rgb(17,17,17)\",\"width\":0.5},\"pattern\":{\"fillmode\":\"overlay\",\"size\":10,\"solidity\":0.2}},\"type\":\"barpolar\"}],\"bar\":[{\"error_x\":{\"color\":\"#f2f5fa\"},\"error_y\":{\"color\":\"#f2f5fa\"},\"marker\":{\"line\":{\"color\":\"rgb(17,17,17)\",\"width\":0.5},\"pattern\":{\"fillmode\":\"overlay\",\"size\":10,\"solidity\":0.2}},\"type\":\"bar\"}],\"carpet\":[{\"aaxis\":{\"endlinecolor\":\"#A2B1C6\",\"gridcolor\":\"#506784\",\"linecolor\":\"#506784\",\"minorgridcolor\":\"#506784\",\"startlinecolor\":\"#A2B1C6\"},\"baxis\":{\"endlinecolor\":\"#A2B1C6\",\"gridcolor\":\"#506784\",\"linecolor\":\"#506784\",\"minorgridcolor\":\"#506784\",\"startlinecolor\":\"#A2B1C6\"},\"type\":\"carpet\"}],\"choropleth\":[{\"colorbar\":{\"outlinewidth\":0,\"ticks\":\"\"},\"type\":\"choropleth\"}],\"contourcarpet\":[{\"colorbar\":{\"outlinewidth\":0,\"ticks\":\"\"},\"type\":\"contourcarpet\"}],\"contour\":[{\"colorbar\":{\"outlinewidth\":0,\"ticks\":\"\"},\"colorscale\":[[0.0,\"#0d0887\"],[0.1111111111111111,\"#46039f\"],[0.2222222222222222,\"#7201a8\"],[0.3333333333333333,\"#9c179e\"],[0.4444444444444444,\"#bd3786\"],[0.5555555555555556,\"#d8576b\"],[0.6666666666666666,\"#ed7953\"],[0.7777777777777778,\"#fb9f3a\"],[0.8888888888888888,\"#fdca26\"],[1.0,\"#f0f921\"]],\"type\":\"contour\"}],\"heatmapgl\":[{\"colorbar\":{\"outlinewidth\":0,\"ticks\":\"\"},\"colorscale\":[[0.0,\"#0d0887\"],[0.1111111111111111,\"#46039f\"],[0.2222222222222222,\"#7201a8\"],[0.3333333333333333,\"#9c179e\"],[0.4444444444444444,\"#bd3786\"],[0.5555555555555556,\"#d8576b\"],[0.6666666666666666,\"#ed7953\"],[0.7777777777777778,\"#fb9f3a\"],[0.8888888888888888,\"#fdca26\"],[1.0,\"#f0f921\"]],\"type\":\"heatmapgl\"}],\"heatmap\":[{\"colorbar\":{\"outlinewidth\":0,\"ticks\":\"\"},\"colorscale\":[[0.0,\"#0d0887\"],[0.1111111111111111,\"#46039f\"],[0.2222222222222222,\"#7201a8\"],[0.3333333333333333,\"#9c179e\"],[0.4444444444444444,\"#bd3786\"],[0.5555555555555556,\"#d8576b\"],[0.6666666666666666,\"#ed7953\"],[0.7777777777777778,\"#fb9f3a\"],[0.8888888888888888,\"#fdca26\"],[1.0,\"#f0f921\"]],\"type\":\"heatmap\"}],\"histogram2dcontour\":[{\"colorbar\":{\"outlinewidth\":0,\"ticks\":\"\"},\"colorscale\":[[0.0,\"#0d0887\"],[0.1111111111111111,\"#46039f\"],[0.2222222222222222,\"#7201a8\"],[0.3333333333333333,\"#9c179e\"],[0.4444444444444444,\"#bd3786\"],[0.5555555555555556,\"#d8576b\"],[0.6666666666666666,\"#ed7953\"],[0.7777777777777778,\"#fb9f3a\"],[0.8888888888888888,\"#fdca26\"],[1.0,\"#f0f921\"]],\"type\":\"histogram2dcontour\"}],\"histogram2d\":[{\"colorbar\":{\"outlinewidth\":0,\"ticks\":\"\"},\"colorscale\":[[0.0,\"#0d0887\"],[0.1111111111111111,\"#46039f\"],[0.2222222222222222,\"#7201a8\"],[0.3333333333333333,\"#9c179e\"],[0.4444444444444444,\"#bd3786\"],[0.5555555555555556,\"#d8576b\"],[0.6666666666666666,\"#ed7953\"],[0.7777777777777778,\"#fb9f3a\"],[0.8888888888888888,\"#fdca26\"],[1.0,\"#f0f921\"]],\"type\":\"histogram2d\"}],\"histogram\":[{\"marker\":{\"pattern\":{\"fillmode\":\"overlay\",\"size\":10,\"solidity\":0.2}},\"type\":\"histogram\"}],\"mesh3d\":[{\"colorbar\":{\"outlinewidth\":0,\"ticks\":\"\"},\"type\":\"mesh3d\"}],\"parcoords\":[{\"line\":{\"colorbar\":{\"outlinewidth\":0,\"ticks\":\"\"}},\"type\":\"parcoords\"}],\"pie\":[{\"automargin\":true,\"type\":\"pie\"}],\"scatter3d\":[{\"line\":{\"colorbar\":{\"outlinewidth\":0,\"ticks\":\"\"}},\"marker\":{\"colorbar\":{\"outlinewidth\":0,\"ticks\":\"\"}},\"type\":\"scatter3d\"}],\"scattercarpet\":[{\"marker\":{\"colorbar\":{\"outlinewidth\":0,\"ticks\":\"\"}},\"type\":\"scattercarpet\"}],\"scattergeo\":[{\"marker\":{\"colorbar\":{\"outlinewidth\":0,\"ticks\":\"\"}},\"type\":\"scattergeo\"}],\"scattergl\":[{\"marker\":{\"line\":{\"color\":\"#283442\"}},\"type\":\"scattergl\"}],\"scattermapbox\":[{\"marker\":{\"colorbar\":{\"outlinewidth\":0,\"ticks\":\"\"}},\"type\":\"scattermapbox\"}],\"scatterpolargl\":[{\"marker\":{\"colorbar\":{\"outlinewidth\":0,\"ticks\":\"\"}},\"type\":\"scatterpolargl\"}],\"scatterpolar\":[{\"marker\":{\"colorbar\":{\"outlinewidth\":0,\"ticks\":\"\"}},\"type\":\"scatterpolar\"}],\"scatter\":[{\"marker\":{\"line\":{\"color\":\"#283442\"}},\"type\":\"scatter\"}],\"scatterternary\":[{\"marker\":{\"colorbar\":{\"outlinewidth\":0,\"ticks\":\"\"}},\"type\":\"scatterternary\"}],\"surface\":[{\"colorbar\":{\"outlinewidth\":0,\"ticks\":\"\"},\"colorscale\":[[0.0,\"#0d0887\"],[0.1111111111111111,\"#46039f\"],[0.2222222222222222,\"#7201a8\"],[0.3333333333333333,\"#9c179e\"],[0.4444444444444444,\"#bd3786\"],[0.5555555555555556,\"#d8576b\"],[0.6666666666666666,\"#ed7953\"],[0.7777777777777778,\"#fb9f3a\"],[0.8888888888888888,\"#fdca26\"],[1.0,\"#f0f921\"]],\"type\":\"surface\"}],\"table\":[{\"cells\":{\"fill\":{\"color\":\"#506784\"},\"line\":{\"color\":\"rgb(17,17,17)\"}},\"header\":{\"fill\":{\"color\":\"#2a3f5f\"},\"line\":{\"color\":\"rgb(17,17,17)\"}},\"type\":\"table\"}]},\"layout\":{\"annotationdefaults\":{\"arrowcolor\":\"#f2f5fa\",\"arrowhead\":0,\"arrowwidth\":1},\"autotypenumbers\":\"strict\",\"coloraxis\":{\"colorbar\":{\"outlinewidth\":0,\"ticks\":\"\"}},\"colorscale\":{\"diverging\":[[0,\"#8e0152\"],[0.1,\"#c51b7d\"],[0.2,\"#de77ae\"],[0.3,\"#f1b6da\"],[0.4,\"#fde0ef\"],[0.5,\"#f7f7f7\"],[0.6,\"#e6f5d0\"],[0.7,\"#b8e186\"],[0.8,\"#7fbc41\"],[0.9,\"#4d9221\"],[1,\"#276419\"]],\"sequential\":[[0.0,\"#0d0887\"],[0.1111111111111111,\"#46039f\"],[0.2222222222222222,\"#7201a8\"],[0.3333333333333333,\"#9c179e\"],[0.4444444444444444,\"#bd3786\"],[0.5555555555555556,\"#d8576b\"],[0.6666666666666666,\"#ed7953\"],[0.7777777777777778,\"#fb9f3a\"],[0.8888888888888888,\"#fdca26\"],[1.0,\"#f0f921\"]],\"sequentialminus\":[[0.0,\"#0d0887\"],[0.1111111111111111,\"#46039f\"],[0.2222222222222222,\"#7201a8\"],[0.3333333333333333,\"#9c179e\"],[0.4444444444444444,\"#bd3786\"],[0.5555555555555556,\"#d8576b\"],[0.6666666666666666,\"#ed7953\"],[0.7777777777777778,\"#fb9f3a\"],[0.8888888888888888,\"#fdca26\"],[1.0,\"#f0f921\"]]},\"colorway\":[\"#636efa\",\"#EF553B\",\"#00cc96\",\"#ab63fa\",\"#FFA15A\",\"#19d3f3\",\"#FF6692\",\"#B6E880\",\"#FF97FF\",\"#FECB52\"],\"font\":{\"color\":\"#f2f5fa\"},\"geo\":{\"bgcolor\":\"rgb(17,17,17)\",\"lakecolor\":\"rgb(17,17,17)\",\"landcolor\":\"rgb(17,17,17)\",\"showlakes\":true,\"showland\":true,\"subunitcolor\":\"#506784\"},\"hoverlabel\":{\"align\":\"left\"},\"hovermode\":\"closest\",\"mapbox\":{\"style\":\"dark\"},\"paper_bgcolor\":\"rgb(17,17,17)\",\"plot_bgcolor\":\"rgb(17,17,17)\",\"polar\":{\"angularaxis\":{\"gridcolor\":\"#506784\",\"linecolor\":\"#506784\",\"ticks\":\"\"},\"bgcolor\":\"rgb(17,17,17)\",\"radialaxis\":{\"gridcolor\":\"#506784\",\"linecolor\":\"#506784\",\"ticks\":\"\"}},\"scene\":{\"xaxis\":{\"backgroundcolor\":\"rgb(17,17,17)\",\"gridcolor\":\"#506784\",\"gridwidth\":2,\"linecolor\":\"#506784\",\"showbackground\":true,\"ticks\":\"\",\"zerolinecolor\":\"#C8D4E3\"},\"yaxis\":{\"backgroundcolor\":\"rgb(17,17,17)\",\"gridcolor\":\"#506784\",\"gridwidth\":2,\"linecolor\":\"#506784\",\"showbackground\":true,\"ticks\":\"\",\"zerolinecolor\":\"#C8D4E3\"},\"zaxis\":{\"backgroundcolor\":\"rgb(17,17,17)\",\"gridcolor\":\"#506784\",\"gridwidth\":2,\"linecolor\":\"#506784\",\"showbackground\":true,\"ticks\":\"\",\"zerolinecolor\":\"#C8D4E3\"}},\"shapedefaults\":{\"line\":{\"color\":\"#f2f5fa\"}},\"sliderdefaults\":{\"bgcolor\":\"#C8D4E3\",\"bordercolor\":\"rgb(17,17,17)\",\"borderwidth\":1,\"tickwidth\":0},\"ternary\":{\"aaxis\":{\"gridcolor\":\"#506784\",\"linecolor\":\"#506784\",\"ticks\":\"\"},\"baxis\":{\"gridcolor\":\"#506784\",\"linecolor\":\"#506784\",\"ticks\":\"\"},\"bgcolor\":\"rgb(17,17,17)\",\"caxis\":{\"gridcolor\":\"#506784\",\"linecolor\":\"#506784\",\"ticks\":\"\"}},\"title\":{\"x\":0.05},\"updatemenudefaults\":{\"bgcolor\":\"#506784\",\"borderwidth\":0},\"xaxis\":{\"automargin\":true,\"gridcolor\":\"#283442\",\"linecolor\":\"#506784\",\"ticks\":\"\",\"title\":{\"standoff\":15},\"zerolinecolor\":\"#283442\",\"zerolinewidth\":2},\"yaxis\":{\"automargin\":true,\"gridcolor\":\"#283442\",\"linecolor\":\"#506784\",\"ticks\":\"\",\"title\":{\"standoff\":15},\"zerolinecolor\":\"#283442\",\"zerolinewidth\":2}}},\"title\":{\"text\":\"Live BACnet Analog Inputs\"},\"xaxis\":{\"title\":{\"text\":\"Time (s)\"}},\"yaxis\":{\"title\":{\"text\":\"Value\"}},\"height\":500},                        {\"responsive\": true}                    ).then(function(){\n",
       "                            \n",
       "var gd = document.getElementById('23a8c7af-eb24-4115-a833-7b743f5d21a3');\n",
       "var x = new MutationObserver(function (mutations, observer) {{\n",
       "        var display = window.getComputedStyle(gd).display;\n",
       "        if (!display || display === 'none') {{\n",
       "            console.log([gd, 'removed!']);\n",
       "            Plotly.purge(gd);\n",
       "            observer.disconnect();\n",
       "        }}\n",
       "}});\n",
       "\n",
       "// Listen for the removal of the full notebook cells\n",
       "var notebookContainer = gd.closest('#notebook-container');\n",
       "if (notebookContainer) {{\n",
       "    x.observe(notebookContainer, {childList: true});\n",
       "}}\n",
       "\n",
       "// Listen for the clearing of the current output cell\n",
       "var outputEl = gd.closest('.output');\n",
       "if (outputEl) {{\n",
       "    x.observe(outputEl, {childList: true});\n",
       "}}\n",
       "\n",
       "                        })                };                });            </script>        </div>"
      ]
     },
     "metadata": {},
     "output_type": "display_data"
    },
    {
     "name": "stdout",
     "output_type": "stream",
     "text": [
      "\n",
      "🛑 Monitoring stopped by user.\n",
      "🔌 BACnet connection closed.\n"
     ]
    }
   ],
   "source": [
    "import BAC0\n",
    "import time\n",
    "import plotly.graph_objects as go\n",
    "from IPython.display import display, clear_output\n",
    "\n",
    "# Setup BACnet connection\n",
    "try:\n",
    "    bacnet = BAC0.lite(ip=\"192.168.1.66/24\", port=47818)\n",
    "    print(\"✅ BACnet connected.\")\n",
    "except Exception as e:\n",
    "    print(f\"[ERROR] Failed to start BACnet: {e}\")\n",
    "    exit()\n",
    "\n",
    "# Buffer for plotting\n",
    "history = {\n",
    "    \"Analog_input0\": [],\n",
    "    \"Analog_input1\": [],\n",
    "    \"Analog_input2\": [],\n",
    "    \"time\": []\n",
    "}\n",
    "\n",
    "# --- Read Analog Inputs from BACnet ---\n",
    "def read_bacnet_inputs():\n",
    "    values = {}\n",
    "    for i in range(3):\n",
    "        point = f\"192.168.1.66:55099 analogInput {i} presentValue\"\n",
    "        try:\n",
    "            value = float(bacnet.read(point))\n",
    "        except Exception as e:\n",
    "            print(f\"[ERROR] reading analogInput {i}: {e}\")\n",
    "            value = None\n",
    "        values[f\"Analog_input{i}\"] = value\n",
    "    return values\n",
    "\n",
    "# --- Plot the Live Graph ---\n",
    "def plot_live():\n",
    "    try:\n",
    "        fig = go.Figure()\n",
    "        for key in [\"Analog_input0\", \"Analog_input1\", \"Analog_input2\"]:\n",
    "            fig.add_trace(go.Scatter(\n",
    "                x=history[\"time\"], y=history[key],\n",
    "                mode='lines+markers', name=key\n",
    "            ))\n",
    "        fig.update_layout(\n",
    "            title=\"Live BACnet Analog Inputs\",\n",
    "            xaxis_title=\"Time (s)\",\n",
    "            yaxis_title=\"Value\",\n",
    "            template=\"plotly_dark\",\n",
    "            height=500\n",
    "        )\n",
    "        clear_output(wait=True)\n",
    "        display(fig)\n",
    "    except Exception as e:\n",
    "        print(f\"[ERROR] plotting: {e}\")\n",
    "\n",
    "# --- Main Loop to Read and Plot ---\n",
    "def main():\n",
    "    print(\"📈 Starting live monitoring...\")\n",
    "    start = time.time()\n",
    "    try:\n",
    "        while True:\n",
    "            values = read_bacnet_inputs()\n",
    "            now = round(time.time() - start, 1)\n",
    "            history[\"time\"].append(now)\n",
    "            for key in [\"Analog_input0\", \"Analog_input1\", \"Analog_input2\"]:\n",
    "                history[key].append(values.get(key))\n",
    "            plot_live()\n",
    "            time.sleep(2)\n",
    "    except KeyboardInterrupt:\n",
    "        print(\"\\n🛑 Monitoring stopped by user.\")\n",
    "    except Exception as e:\n",
    "        print(f\"[ERROR] main loop: {e}\")\n",
    "    finally:\n",
    "        try:\n",
    "            bacnet.disconnect()\n",
    "            print(\"🔌 BACnet connection closed.\")\n",
    "        except Exception as e:\n",
    "            print(f\"[ERROR] during disconnect: {e}\")\n",
    "\n",
    "# Run only if called directly\n",
    "if __name__ == '__main__':\n",
    "    main()\n"
   ]
  },
  {
   "cell_type": "markdown",
   "id": "14a3e139",
   "metadata": {},
   "source": [
    "output example: \n",
    "\n",
    "<img src=\"plot_example.png\">"
   ]
  },
  {
   "cell_type": "markdown",
   "id": "dc70e336",
   "metadata": {},
   "source": [
    "### Review bacnet object"
   ]
  },
  {
   "cell_type": "code",
   "execution_count": null,
   "id": "48a2c320",
   "metadata": {},
   "outputs": [],
   "source": [
    "import BAC0\n",
    "import time\n",
    "import plotly.graph_objects as go\n",
    "from IPython.display import display, clear_output\n",
    "\n",
    "# Setup BACnet\n",
    "bacnet = BAC0.lite(ip=\"192.168.1.66/24\", port=47819)"
   ]
  },
  {
   "cell_type": "code",
   "execution_count": 34,
   "id": "2f02d38d",
   "metadata": {},
   "outputs": [],
   "source": [
    "#dir(bacnet)"
   ]
  },
  {
   "cell_type": "code",
   "execution_count": 7,
   "id": "a599241d",
   "metadata": {
    "scrolled": false
   },
   "outputs": [
    {
     "name": "stdout",
     "output_type": "stream",
     "text": [
      "Help on Lite in module BAC0.scripts.Lite object:\n",
      "\n",
      "class Lite(BAC0.scripts.Base.Base, BAC0.core.functions.Discover.Discover, BAC0.core.io.Read.ReadProperty, BAC0.core.io.Write.WriteProperty, BAC0.core.io.Simulate.Simulation, BAC0.core.functions.TimeSync.TimeSync, BAC0.core.functions.Reinitialize.Reinitialize, BAC0.core.functions.DeviceCommunicationControl.DeviceCommunicationControl, BAC0.core.functions.cov.CoV, BAC0.core.functions.Schedule.Schedule, BAC0.core.functions.Calendar.Calendar, BAC0.core.functions.Text.TextMixin)\n",
      " |  Lite(ip=None, port=None, mask=None, bbmdAddress=None, bbmdTTL=0, bdtable=None, ping=True, ping_delay=300, db_params=None, **params)\n",
      " |  \n",
      " |  Build a BACnet application to accept read and write requests.\n",
      " |  [Basic Whois/IAm functions are implemented in parent BasicScript class.]\n",
      " |  Once created, execute a whois() to build a list of available controllers.\n",
      " |  Initialization requires information on the local device.\n",
      " |  \n",
      " |  :param ip='127.0.0.1': Address must be in the same subnet as the BACnet network\n",
      " |      [BBMD and Foreign Device - not supported]\n",
      " |  \n",
      " |  Method resolution order:\n",
      " |      Lite\n",
      " |      BAC0.scripts.Base.Base\n",
      " |      BAC0.core.functions.Discover.Discover\n",
      " |      BAC0.core.io.Read.ReadProperty\n",
      " |      BAC0.core.io.Write.WriteProperty\n",
      " |      BAC0.core.io.Simulate.Simulation\n",
      " |      BAC0.core.functions.TimeSync.TimeSync\n",
      " |      BAC0.core.functions.Reinitialize.Reinitialize\n",
      " |      BAC0.core.functions.DeviceCommunicationControl.DeviceCommunicationControl\n",
      " |      BAC0.core.functions.cov.CoV\n",
      " |      BAC0.core.functions.Schedule.Schedule\n",
      " |      BAC0.core.functions.Calendar.Calendar\n",
      " |      BAC0.core.functions.Text.TextMixin\n",
      " |      builtins.object\n",
      " |  \n",
      " |  Methods defined here:\n",
      " |  \n",
      " |  __getitem__(self, boid_or_localobject)\n",
      " |  \n",
      " |  __init__(self, ip=None, port=None, mask=None, bbmdAddress=None, bbmdTTL=0, bdtable=None, ping=True, ping_delay=300, db_params=None, **params)\n",
      " |      Initialize self.  See help(type(self)) for accurate signature.\n",
      " |  \n",
      " |  __repr__(self)\n",
      " |      Return repr(self).\n",
      " |  \n",
      " |  add_trend(self, point_to_trend)\n",
      " |      Add point to the list of histories that will be handled by Bokeh\n",
      " |      \n",
      " |      Argument provided must be of type Point or TrendLog\n",
      " |      ex. bacnet.add_trend(controller['point_name'])\n",
      " |  \n",
      " |  clear_notes(self)\n",
      " |      Clear notes object\n",
      " |  \n",
      " |  disconnect(self)\n",
      " |      Stop the BACnet stack.  Free the IP socket.\n",
      " |  \n",
      " |  discover(self, networks='known', limits=(0, 4194303), global_broadcast=False, reset=False)\n",
      " |      Discover is meant to be the function used to explore the network when we\n",
      " |      connect.\n",
      " |      It will trigger whois request using the different options provided with\n",
      " |      parameters.\n",
      " |      \n",
      " |      By default, a local broadcast will be used. This is required as in big\n",
      " |      BACnet network, global broadcast can lead to network flood and loss of data.\n",
      " |      \n",
      " |      If not parameters are given, BAC0 will try to :\n",
      " |      \n",
      " |          * Find the network on which it is\n",
      " |          * Find routers for other networks (accessible via local broadcast)\n",
      " |          * Detect \"known networks\"\n",
      " |          * Use the list of known networks and create whois request to find all devices on those networks\n",
      " |      \n",
      " |      This should be sufficient for most cases.\n",
      " |      \n",
      " |      Once discovery is done, user may access the list of \"discovered devices\" using ::\n",
      " |      \n",
      " |          bacnet.discoveredDevices\n",
      " |      \n",
      " |      :param networks (list, integer) : A simple integer or a list of integer\n",
      " |          representing the network numbers used to issue whois request.\n",
      " |      \n",
      " |      :param limits (tuple) : tuple made of 2 integer, the low limit and the high\n",
      " |          limit. Those are the device instances used in the creation of the\n",
      " |          whois request. Min : 0 ; Max : 4194303\n",
      " |      \n",
      " |      :param global_broadcast (boolean) : If set to true, a global braodcast\n",
      " |          will be used for the whois. Use with care.\n",
      " |  \n",
      " |  log(self, note, *, level=10)\n",
      " |      Add a log entry...no note\n",
      " |  \n",
      " |  log_subtitle(self, subtitle, args=None, width=35)\n",
      " |  \n",
      " |  log_title(self, title, args=None, width=35)\n",
      " |  \n",
      " |  note(self, note, *, level=20, log=True)\n",
      " |      Add note to the object. By default, the note will also\n",
      " |      be logged\n",
      " |      :param note: (str) The note itself\n",
      " |      :param level: (logging.level)\n",
      " |      :param log: (boolean) Enable or disable logging of note\n",
      " |  \n",
      " |  ping_registered_devices(self)\n",
      " |      Registered device on a network (self) are kept in a list (registered_devices).\n",
      " |      This function will allow pinging thoses device regularly to monitor them. In case\n",
      " |      of disconnected devices, we will disconnect the device (which will save it). Then\n",
      " |      we'll ping again until reconnection, where the device will be bring back online.\n",
      " |      \n",
      " |      To permanently disconnect a device, an explicit device.disconnect(unregister=True [default value])\n",
      " |      will be needed. This way, the device won't be in the registered_devices list and\n",
      " |      BAC0 won't try to ping it.\n",
      " |  \n",
      " |  register_device(self, device)\n",
      " |  \n",
      " |  remove_trend(self, point_to_remove)\n",
      " |      Remove point from the list of histories that will be handled by Bokeh\n",
      " |      \n",
      " |      Argument provided must be of type Point or TrendLog\n",
      " |      ex. bacnet.remove_trend(controller['point_name'])\n",
      " |  \n",
      " |  unregister_device(self, device)\n",
      " |      Remove from the registered list\n",
      " |  \n",
      " |  ----------------------------------------------------------------------\n",
      " |  Data descriptors defined here:\n",
      " |  \n",
      " |  devices\n",
      " |      This property will create a good looking table of all the discovered devices\n",
      " |      seen on the network.\n",
      " |      \n",
      " |      For that, some requests will be sent over the network to look for name,\n",
      " |      manufacturer, etc and in big network, this could be a long process.\n",
      " |  \n",
      " |  known_network_numbers\n",
      " |      This function will read the table of known network numbers gathered by the\n",
      " |      NetworkServiceElement. It will also look into the discoveredDevices property\n",
      " |      and add any network number that would not be in the NSE table.\n",
      " |  \n",
      " |  notes\n",
      " |      Retrieve notes list as a Pandas Series\n",
      " |  \n",
      " |  registered_devices\n",
      " |      Devices that have been created using BAC0.device(args)\n",
      " |  \n",
      " |  trends\n",
      " |      This will present a list of all registered trends used by Bokeh Server\n",
      " |  \n",
      " |  ----------------------------------------------------------------------\n",
      " |  Data and other attributes defined here:\n",
      " |  \n",
      " |  logname = 'BAC0.scripts.Lite | Lite'\n",
      " |  \n",
      " |  ----------------------------------------------------------------------\n",
      " |  Methods inherited from BAC0.scripts.Base.Base:\n",
      " |  \n",
      " |  register_foreign_device(self, addr=None, ttl=0)\n",
      " |  \n",
      " |  startApp(self)\n",
      " |      Define the local device, including services supported.\n",
      " |      Once defined, start the BACnet stack in its own thread.\n",
      " |  \n",
      " |  unregister_foreign_device(self)\n",
      " |  \n",
      " |  ----------------------------------------------------------------------\n",
      " |  Data descriptors inherited from BAC0.scripts.Base.Base:\n",
      " |  \n",
      " |  __dict__\n",
      " |      dictionary for instance variables (if defined)\n",
      " |  \n",
      " |  __weakref__\n",
      " |      list of weak references to the object (if defined)\n",
      " |  \n",
      " |  discoveredNetworks\n",
      " |  \n",
      " |  routing_table\n",
      " |      Routing Table will give all the details about routers and how they\n",
      " |      connect BACnet networks together.\n",
      " |      \n",
      " |      It's a decoded presentation of what bacpypes.router_info_cache contains.\n",
      " |      \n",
      " |      Returns a dict with the address of routers as key.\n",
      " |  \n",
      " |  ----------------------------------------------------------------------\n",
      " |  Methods inherited from BAC0.core.functions.Discover.Discover:\n",
      " |  \n",
      " |  iam(self, destination=None)\n",
      " |      Build an IAm response.  IAm are sent in response to a WhoIs request that;\n",
      " |      matches our device ID, whose device range includes us, or is a broadcast.\n",
      " |      Content is defined by the script (deviceId, vendor, etc...)\n",
      " |      \n",
      " |      :returns: bool\n",
      " |      \n",
      " |      Example::\n",
      " |      \n",
      " |          iam()\n",
      " |  \n",
      " |  init_routing_table(self, address)\n",
      " |      irt <addr>\n",
      " |      \n",
      " |      Send an empty Initialize-Routing-Table message to an address, a router\n",
      " |      will return an acknowledgement with its routing table configuration.\n",
      " |  \n",
      " |  what_is_network_number(self, destination=None)\n",
      " |      winn [ <addr> ]\n",
      " |      \n",
      " |      Send a What-Is-Network-Number message.  If the address is unspecified\n",
      " |      the message is locally broadcast.\n",
      " |  \n",
      " |  whohas(self, object_id=None, object_name=None, instance_range_low_limit=0, instance_range_high_limit=4194303, destination=None, global_broadcast=False)\n",
      " |      Object ID : analogInput:1\n",
      " |      Object Name : string\n",
      " |      Instance Range Low Limit : 0\n",
      " |      Instance Range High Limit : 4194303\n",
      " |      destination (optional) : If empty, local broadcast will be used.\n",
      " |      global_broadcast : False\n",
      " |  \n",
      " |  whois(self, *args, global_broadcast=False, destination=None)\n",
      " |      Build a WhoIs request\n",
      " |      \n",
      " |      :param args: string built as [ <addr>] [ <lolimit> <hilimit> ] **optional**\n",
      " |      :returns: discoveredDevices as a defaultdict(int)\n",
      " |      \n",
      " |      Example::\n",
      " |      \n",
      " |          whois(global_broadcast=True) # WhoIs broadcast globally.  Every device will respond with an IAm\n",
      " |          whois('2:5')                 # WhoIs looking for the device at (Network 2, Address 5)\n",
      " |          whois('10 1000')             # WhoIs looking for devices in the ID range (10 - 1000)\n",
      " |  \n",
      " |  whois_router_to_network(self, network=None, *, destination=None)\n",
      " |  \n",
      " |  ----------------------------------------------------------------------\n",
      " |  Methods inherited from BAC0.core.io.Read.ReadProperty:\n",
      " |  \n",
      " |  build_rp_request(self, args, arr_index=None, vendor_id=0, bacoid=None)\n",
      " |  \n",
      " |  build_rpm_request(self, args, vendor_id=0)\n",
      " |      Build request from args\n",
      " |  \n",
      " |  build_rpm_request_from_dict(self, request_dict, vendor_id)\n",
      " |      Read property multiple allow to read a lot of properties with only one request\n",
      " |      The existing RPM function is made using a string that must be created using bacpypes\n",
      " |      console style and is hard to automate.\n",
      " |      \n",
      " |      This new version will be an attempt to improve that::\n",
      " |      \n",
      " |          _rpm = {'address': '11:2',\n",
      " |              'objects': {'analogInput:1': ['presentValue', 'description', 'unit', 'objectList@idx:0'],\n",
      " |                          'analogInput:2': ['presentValue', 'description', 'unit', 'objectList@idx:0'],\n",
      " |              },\n",
      " |              vendor_id: 842\n",
      " |              }\n",
      " |  \n",
      " |  build_rrange_request(self, args, range_params=None, arr_index=None, vendor_id=0, bacoid=None)\n",
      " |  \n",
      " |  read(self, args, arr_index=None, vendor_id=0, bacoid=None, timeout=10, show_property_name=False)\n",
      " |      Build a ReadProperty request, wait for the answer and return the value\n",
      " |      \n",
      " |      :param args: String with <addr> <type> <inst> <prop> [ <indx> ]\n",
      " |      :returns: data read from device (str representing data like 10 or True)\n",
      " |      \n",
      " |      *Example*::\n",
      " |      \n",
      " |          import BAC0\n",
      " |          myIPAddr = '192.168.1.10/24'\n",
      " |          bacnet = BAC0.connect(ip = myIPAddr)\n",
      " |          bacnet.read('2:5 analogInput 1 presentValue')\n",
      " |      \n",
      " |      Requests the controller at (Network 2, address 5) for the presentValue of\n",
      " |      its analog input 1 (AI:1).\n",
      " |  \n",
      " |  readMultiple(self, args, request_dict=None, vendor_id=0, timeout=10, show_property_name=False)\n",
      " |      Build a ReadPropertyMultiple request, wait for the answer and return the values\n",
      " |      \n",
      " |      :param args: String with <addr> ( <type> <inst> ( <prop> [ <indx> ] )... )...\n",
      " |      :returns: data read from device (str representing data like 10 or True)\n",
      " |      \n",
      " |      *Example*::\n",
      " |      \n",
      " |          import BAC0\n",
      " |          myIPAddr = '192.168.1.10/24'\n",
      " |          bacnet = BAC0.connect(ip = myIPAddr)\n",
      " |          bacnet.readMultiple('2:5 analogInput 1 presentValue units')\n",
      " |      \n",
      " |      Requests the controller at (Network 2, address 5) for the (presentValue and units) of\n",
      " |      its analog input 1 (AI:1).\n",
      " |  \n",
      " |  readRange(self, args, range_params=None, arr_index=None, vendor_id=0, bacoid=None, timeout=10)\n",
      " |      Build a ReadProperty request, wait for the answer and return the value\n",
      " |      \n",
      " |      :param args: String with <addr> <type> <inst> <prop> [ <indx> ]\n",
      " |      :returns: data read from device (str representing data like 10 or True)\n",
      " |      \n",
      " |      *Example*::\n",
      " |      \n",
      " |          import BAC0\n",
      " |          myIPAddr = '192.168.1.10/24'\n",
      " |          bacnet = BAC0.connect(ip = myIPAddr)\n",
      " |          bacnet.read('2:5 analogInput 1 presentValue')\n",
      " |      \n",
      " |      Requests the controller at (Network 2, address 5) for the presentValue of\n",
      " |      its analog input 1 (AI:1).\n",
      " |  \n",
      " |  read_priority_array(self, addr, obj, obj_instance)\n",
      " |  \n",
      " |  ----------------------------------------------------------------------\n",
      " |  Methods inherited from BAC0.core.io.Write.WriteProperty:\n",
      " |  \n",
      " |  build_wp_request(self, args, vendor_id=0)\n",
      " |  \n",
      " |  build_wpm_request(self, args, vendor_id=0, addr=None)\n",
      " |  \n",
      " |  write(self, args, vendor_id=0, timeout=10)\n",
      " |      Build a WriteProperty request, wait for an answer, and return status [True if ok, False if not].\n",
      " |      \n",
      " |      :param args: String with <addr> <type> <inst> <prop> <value> [ <indx> ] - [ <priority> ]\n",
      " |      :returns: return status [True if ok, False if not]\n",
      " |      \n",
      " |      *Example*::\n",
      " |      \n",
      " |          import BAC0\n",
      " |          bacnet = BAC0.lite()\n",
      " |          bacnet.write('2:5 analogValue 1 presentValue 100 - 8')\n",
      " |      \n",
      " |      Direct the controller at (Network 2, address 5) to write 100 to the presentValues of\n",
      " |      its analogValue 1 (AV:1) at priority 8\n",
      " |  \n",
      " |  writeMultiple(self, addr=None, args=None, vendor_id=0, timeout=10)\n",
      " |      Build a WritePropertyMultiple request, wait for an answer\n",
      " |      \n",
      " |      :param addr: destination of request (ex. '2:3' or '192.168.1.2')\n",
      " |      :param args: list of String with <type> <inst> <prop> <value> [ <indx> ] - [ <priority> ]\n",
      " |      :param vendor_id: Mandatory for registered proprietary object and properties\n",
      " |      :param timeout: used by IOCB to discard request if timeout reached\n",
      " |      :returns: return status [True if ok, False if not]\n",
      " |      \n",
      " |      *Example*::\n",
      " |      \n",
      " |          import BAC0\n",
      " |          bacnet = BAC0.lite()\n",
      " |          r = ['analogValue 1 presentValue 100','analogValue 2 presentValue 100','analogValue 3 presentValue 100 - 8','@obj_142 1 @prop_1042 True']\n",
      " |          bacnet.writeMultiple(addr='2:5',args=r,vendor_id=842)\n",
      " |          # or\n",
      " |          # bacnet.writeMultiple('2:5',r)\n",
      " |  \n",
      " |  ----------------------------------------------------------------------\n",
      " |  Methods inherited from BAC0.core.io.Simulate.Simulation:\n",
      " |  \n",
      " |  out_of_service(self, args)\n",
      " |      Set the Out_Of_Service property so the Present_Value of an I/O may be written.\n",
      " |      \n",
      " |      :param args: String with <addr> <type> <inst> <prop> <value> [ <indx> ] [ <priority> ]\n",
      " |  \n",
      " |  release(self, args)\n",
      " |      Set the Out_Of_Service property to False - to release the I/O point back to\n",
      " |      the controller's control.\n",
      " |      \n",
      " |      :param args: String with <addr> <type> <inst>\n",
      " |  \n",
      " |  sim(self, args)\n",
      " |      Simulate I/O points by setting the Out_Of_Service property, then doing a\n",
      " |      WriteProperty to the point's Present_Value.\n",
      " |      \n",
      " |      :param args: String with <addr> <type> <inst> <prop> <value> [ <indx> ] [ <priority> ]\n",
      " |  \n",
      " |  ----------------------------------------------------------------------\n",
      " |  Methods inherited from BAC0.core.functions.TimeSync.TimeSync:\n",
      " |  \n",
      " |  time_sync(self, destination=None, datetime=None, UTC=False)\n",
      " |      Take local time and send it to devices. User can also provide\n",
      " |      a datetime value (constructed following bacpypes.basetypes.Datetime\n",
      " |      format).\n",
      " |      \n",
      " |      To create a DateTime ::\n",
      " |      \n",
      " |          from bacpypes.basetypes import DateTime\n",
      " |          from bacpypes.primitivedata import Date, Time\n",
      " |      \n",
      " |          # Create date and time\n",
      " |          _date = Date('2019-08-05')\n",
      " |          _time = Time('16:45')\n",
      " |      \n",
      " |          # Create Datetime\n",
      " |          _datetime = DateTime(date=_date.value, time=_time.value)\n",
      " |      \n",
      " |          # Pass this to the function\n",
      " |          bacnet.time_sync(datetime=_datetime)\n",
      " |  \n",
      " |  ----------------------------------------------------------------------\n",
      " |  Methods inherited from BAC0.core.functions.Reinitialize.Reinitialize:\n",
      " |  \n",
      " |  reinitialize(self, address=None, password=None, state='coldstart')\n",
      " |      Will send reinitialize request\n",
      " |  \n",
      " |  ----------------------------------------------------------------------\n",
      " |  Methods inherited from BAC0.core.functions.DeviceCommunicationControl.DeviceCommunicationControl:\n",
      " |  \n",
      " |  dcc(self, address=None, duration=None, password=None, state=None)\n",
      " |      Will send DeviceCommunicationControl request\n",
      " |  \n",
      " |  ----------------------------------------------------------------------\n",
      " |  Methods inherited from BAC0.core.functions.cov.CoV:\n",
      " |  \n",
      " |  cancel_cov(self, address, objectID, callback=None)\n",
      " |  \n",
      " |  context_callback(self, elements)\n",
      " |      # def context_callback(self, elements, callback=None):\n",
      " |  \n",
      " |  cov(self, address, objectID, confirmed=True, lifetime=0, callback=None)\n",
      " |  \n",
      " |  send_cov_subscription(self, request)\n",
      " |  \n",
      " |  subscription_acknowledged(self, iocb)\n",
      " |  \n",
      " |  ----------------------------------------------------------------------\n",
      " |  Methods inherited from BAC0.core.functions.Schedule.Schedule:\n",
      " |  \n",
      " |  create_weeklySchedule(self, dict_schedule, object_reference=None)\n",
      " |      From a structured dict (see schedule_example), create a WeeklySchedule\n",
      " |      an ArrayOf(DailySchedule)\n",
      " |  \n",
      " |  decode_dailySchedule(self, dailySchedule, states, offset_MV)\n",
      " |  \n",
      " |  decode_weeklySchedule(self, weeklySchedule, states, offset_MV)\n",
      " |  \n",
      " |  make_weeklySchedule_request(self, destination, object_instance, weeklySchedule)\n",
      " |  \n",
      " |  read_weeklySchedule(self, address, schedule_instance)\n",
      " |      This function will turn the weeklySchedule received into a\n",
      " |      human readable dict.\n",
      " |      This dict can then be modified and used to write back to controller\n",
      " |      using bacnet.write_weeklySchedule\n",
      " |  \n",
      " |  send_weeklyschedule_request(self, request, timeout=10)\n",
      " |  \n",
      " |  write_weeklySchedule(self, destination, schedule_instance, schedule)\n",
      " |  \n",
      " |  ----------------------------------------------------------------------\n",
      " |  Data and other attributes inherited from BAC0.core.functions.Schedule.Schedule:\n",
      " |  \n",
      " |  WeeklySchedule = <class 'bacpypes.constructeddata.ArrayOf.<locals>.Arr...\n",
      " |  \n",
      " |  \n",
      " |  days = ['monday', 'tuesday', 'wednesday', 'thursday', 'friday', 'satur...\n",
      " |  \n",
      " |  schedule_example_analog = {'states': 'analog', 'week': {'friday': [('5...\n",
      " |  \n",
      " |  schedule_example_binary = {'states': {'active': 1, 'inactive': 0}, 'we...\n",
      " |  \n",
      " |  schedule_example_multistate = {'states': {'Not Set': 4, 'Occupied': 1,...\n",
      " |  \n",
      " |  schedules = {}\n",
      " |  \n",
      " |  ----------------------------------------------------------------------\n",
      " |  Methods inherited from BAC0.core.functions.Calendar.Calendar:\n",
      " |  \n",
      " |  create_calendar(self, dict_calendar)\n",
      " |      From a structured dict (see dateList_example), create a DateList\n",
      " |      an ArrayOf(CalendarEntry)\n",
      " |  \n",
      " |  decode_dateList(self, dateList_object)\n",
      " |  \n",
      " |  make_calendar_request(self, destination, object_instance, dateList)\n",
      " |  \n",
      " |  read_calendar_dateList(self, address, calendar_instance)\n",
      " |      This function will read the dateList property of given calendar object and\n",
      " |      pass it to decode_dateList() to convert it into a human readable dict.\n",
      " |  \n",
      " |  send_calendar_request(self, request, timeout=10)\n",
      " |  \n",
      " |  write_calendar_dateList(self, destination, calendar_instance, dates)\n",
      " |  \n",
      " |  ----------------------------------------------------------------------\n",
      " |  Data and other attributes inherited from BAC0.core.functions.Calendar.Calendar:\n",
      " |  \n",
      " |  DateList = <class 'bacpypes.constructeddata.ArrayOf.<locals>.ArrayOf'>\n",
      " |  \n",
      " |  \n",
      " |  datelist_example = {'dateRanges': [{'endDate': '2021/3/21', 'startDate...\n",
      " |  \n",
      " |  ----------------------------------------------------------------------\n",
      " |  Methods inherited from BAC0.core.functions.Text.TextMixin:\n",
      " |  \n",
      " |  build_text_write_request(self, addr, obj_type, obj_inst, value, prop_id='description')\n",
      " |  \n",
      " |  send_text_write_request(self, addr, obj_type, obj_inst, value, prop_id='description')\n",
      " |  \n",
      " |  write_text_value(self, request, timeout=10)\n",
      "\n"
     ]
    }
   ],
   "source": [
    "help(bacnet)"
   ]
  },
  {
   "cell_type": "markdown",
   "id": "47bcf596",
   "metadata": {},
   "source": [
    "### Explore bacnet object"
   ]
  },
  {
   "cell_type": "code",
   "execution_count": 11,
   "id": "f55d3c43",
   "metadata": {
    "scrolled": false
   },
   "outputs": [
    {
     "name": "stdout",
     "output_type": "stream",
     "text": [
      "✅ BACnet connected.\n",
      "\n",
      "🔎 Discovering devices with WHOIS...\n",
      "⚠️  No devices discovered via broadcast.\n",
      "\n",
      "📦 Device Summary:\n",
      "\n",
      "🌐 Known Network Numbers:\n",
      "⚠️  No known networks.\n",
      "\n",
      "🧭 BACnet Routing Table:\n",
      "⚠️  No routing info available.\n",
      "\n",
      "🔍 Object List from 192.168.1.66:55099\n",
      "📄 Object List: [('device', 1392679), ('analogInput', 0), ('analogInput', 1), ('analogInput', 2), ('analogValue', 0), ('analogValue', 1), ('analogValue', 2), ('analogValue', 3), ('characterstringValue', 1), ('binaryValue', 0), ('binaryValue', 1), ('multiStateValue', 0), ('multiStateValue', 1)]\n",
      "\n",
      "📖 Reading Analog Inputs from 192.168.1.66:55099\n",
      "AI:0 = 69.5999984741211\n",
      "AI:1 = 101.30000305175781\n",
      "AI:2 = 53.599998474121094\n",
      "\n",
      "📶 Testing device at 192.168.1.66:55099 via presentValue read...\n",
      "✅ Device responded with AI:0 value = 69.5999984741211\n",
      "\n",
      "⏱️  Testing time sync on 192.168.1.66:55099...\n",
      "⚠️  Cannot read device clock: APDU Abort Reason : other\n",
      "✅ time_sync() command sent.\n",
      "⏱️  Post-sync time read skipped (not supported).\n",
      "\n",
      "🧠 Exploring all objects at 192.168.1.66:55099\n",
      "\n",
      "🔎 device 1392679\n",
      "  - description: Free RoomController Simulator, F. Chaxel 2015\n",
      "  - objectName: RoomController.Simulator\n",
      "\n",
      "🔎 analogInput 0\n",
      "  - presentValue: 69.5999984741211\n",
      "  - description: Indoor Temperature\n",
      "  - units: degreesFahrenheit\n",
      "  - statusFlags: [0, 0, 0, 0]\n",
      "  - objectName: Temperature.Indoor\n",
      "\n",
      "🔎 analogInput 1\n",
      "  - presentValue: 100.5999984741211\n",
      "  - description: Glycol Water Temperature\n",
      "  - units: degreesFahrenheit\n",
      "  - statusFlags: [0, 0, 0, 0]\n",
      "  - objectName: Temperature.Water\n",
      "\n",
      "🔎 analogInput 2\n",
      "  - presentValue: 53.599998474121094\n",
      "  - description: Outdoor Temperature\n",
      "  - units: degreesFahrenheit\n",
      "  - statusFlags: [0, 0, 0, 0]\n",
      "  - objectName: Temperature.Outdoor\n",
      "\n",
      "🔎 analogValue 0\n",
      "  - presentValue: 70.0\n",
      "  - description: Effective SetPoint\n",
      "  - units: degreesFahrenheit\n",
      "  - statusFlags: [0, 0, 0, 0]\n",
      "  - objectName: SetPoint.Value\n",
      "\n",
      "🔎 analogValue 1\n",
      "  - presentValue: 70.0\n",
      "  - description: Setoint 1\n",
      "  - units: degreesFahrenheit\n",
      "  - statusFlags: [0, 0, 0, 0]\n",
      "  - objectName: Setpoint.1\n",
      "\n",
      "🔎 analogValue 2\n",
      "  - presentValue: 66.0\n",
      "  - description: Setpoint 2\n",
      "  - units: degreesFahrenheit\n",
      "  - statusFlags: [0, 0, 0, 0]\n",
      "  - objectName: Setpoint.2\n",
      "\n",
      "🔎 analogValue 3\n",
      "  - presentValue: 63.0\n",
      "  - description: Setpoint 3\n",
      "  - units: degreesFahrenheit\n",
      "  - statusFlags: [0, 0, 0, 0]\n",
      "  - objectName: Setpoint.3\n",
      "\n",
      "🔎 characterstringValue 1\n",
      "  - presentValue: Comfort;Eco+;Vacancy\n",
      "  - description: CSV SetpPoint Texts\n",
      "  - statusFlags: [0, 0, 0, 0]\n",
      "  - objectName: TextsSetpointsCSV\n",
      "\n",
      "🔎 binaryValue 0\n",
      "  - presentValue: active\n",
      "  - description: Heater Status\n",
      "  - statusFlags: [0, 0, 0, 0]\n",
      "  - objectName: State.Heater\n",
      "\n",
      "🔎 binaryValue 1\n",
      "  - presentValue: inactive\n",
      "  - description: Chiller Status\n",
      "  - statusFlags: [0, 0, 0, 0]\n",
      "  - objectName: State.Chiller\n",
      "\n",
      "🔎 multiStateValue 0\n",
      "  - presentValue: 2\n",
      "  - description: Controler State Command\n",
      "  - statusFlags: [0, 0, 0, 0]\n",
      "  - objectName: State\n",
      "\n",
      "🔎 multiStateValue 1\n",
      "  - presentValue: 3\n",
      "  - description: Ventilation level\n",
      "  - statusFlags: [0, 0, 0, 0]\n",
      "  - objectName: State.VentilationLevel\n",
      "\n",
      "🔌 BACnet disconnected. All tasks complete.\n"
     ]
    }
   ],
   "source": [
    "import BAC0\n",
    "import time\n",
    "from datetime import datetime\n",
    "\n",
    "# ======================== Setup BACnet ========================\n",
    "try:\n",
    "    bacnet = BAC0.lite(ip=\"192.168.1.66/24\", port=47818)\n",
    "    print(\"✅ BACnet connected.\\n\")\n",
    "except Exception as e:\n",
    "    print(f\"[ERROR] Failed to connect: {e}\")\n",
    "    exit()\n",
    "\n",
    "# ===================== BACnet Utility Functions =====================\n",
    "\n",
    "def discover_devices(bacnet):\n",
    "    print(\"🔎 Discovering devices with WHOIS...\")\n",
    "    try:\n",
    "        bacnet.whois()\n",
    "        devices = bacnet.devices\n",
    "        if isinstance(devices, list) and len(devices) == 0:\n",
    "            print(\"⚠️  No devices discovered via broadcast.\")\n",
    "        else:\n",
    "            print(\"\\n📋 Discovered Devices:\")\n",
    "            print(devices)\n",
    "    except Exception as e:\n",
    "        print(f\"[ERROR] discover_devices: {e}\")\n",
    "\n",
    "def summarize_devices(bacnet):\n",
    "    print(\"\\n📦 Device Summary:\")\n",
    "    try:\n",
    "        devices = bacnet.devices\n",
    "        if isinstance(devices, list):\n",
    "            for device in devices:\n",
    "                name = device.get('Name', 'Unknown')\n",
    "                instance = device.get('Instance', 'N/A')\n",
    "                address = device.get('Address', 'N/A')\n",
    "                vendor = device.get('Vendor', 'N/A')\n",
    "                print(f\"🟢 {name} | Instance: {instance} | Address: {address} | Vendor: {vendor}\")\n",
    "        else:\n",
    "            print(\"⚠️  Devices list is not in expected format.\")\n",
    "    except Exception as e:\n",
    "        print(f\"[ERROR] summarize_devices: {e}\")\n",
    "\n",
    "def list_known_networks(bacnet):\n",
    "    print(\"\\n🌐 Known Network Numbers:\")\n",
    "    try:\n",
    "        known = bacnet.known_network_numbers\n",
    "        print(known if known else \"⚠️  No known networks.\")\n",
    "    except Exception as e:\n",
    "        print(f\"[ERROR] list_known_networks: {e}\")\n",
    "\n",
    "def show_routing_table(bacnet):\n",
    "    print(\"\\n🧭 BACnet Routing Table:\")\n",
    "    try:\n",
    "        routes = bacnet.routing_table\n",
    "        if routes:\n",
    "            for router, info in routes.items():\n",
    "                print(f\"🔁 Router {router} handles networks: {info['networks']}\")\n",
    "        else:\n",
    "            print(\"⚠️  No routing info available.\")\n",
    "    except Exception as e:\n",
    "        print(f\"[ERROR] show_routing_table: {e}\")\n",
    "\n",
    "def discover_object_types(bacnet, address):\n",
    "    print(f\"\\n🔍 Object List from {address}\")\n",
    "    try:\n",
    "        object_list = bacnet.read(f\"{address} device 1 objectList\")\n",
    "        print(f\"📄 Object List: {object_list}\")\n",
    "    except Exception as e:\n",
    "        print(f\"[ERROR] discover_object_types: {e}\")\n",
    "\n",
    "def read_analog_inputs(bacnet, address, max_inputs=3):\n",
    "    print(f\"\\n📖 Reading Analog Inputs from {address}\")\n",
    "    for i in range(max_inputs):\n",
    "        try:\n",
    "            val = bacnet.read(f\"{address} analogInput {i} presentValue\")\n",
    "            print(f\"AI:{i} = {val}\")\n",
    "        except Exception as e:\n",
    "            print(f\"[ERROR] reading AI:{i}: {e}\")\n",
    "\n",
    "def test_read_status(bacnet, address):\n",
    "    print(f\"\\n📶 Testing device at {address} via presentValue read...\")\n",
    "    try:\n",
    "        val = bacnet.read(f\"{address} analogInput 0 presentValue\")\n",
    "        print(f\"✅ Device responded with AI:0 value = {val}\")\n",
    "    except Exception as e:\n",
    "        print(f\"[ERROR] Device read test failed: {e}\")\n",
    "\n",
    "def test_time_sync(bacnet, address):\n",
    "    print(f\"\\n⏱️  Testing time sync on {address}...\")\n",
    "\n",
    "    try:\n",
    "        try:\n",
    "            time_before = bacnet.read(f\"{address} device 1 localTime\")\n",
    "            date_before = bacnet.read(f\"{address} device 1 localDate\")\n",
    "            print(f\"📆 Device time before sync: {date_before} {time_before}\")\n",
    "        except Exception as e:\n",
    "            print(f\"⚠️  Cannot read device clock: {e}\")\n",
    "\n",
    "        try:\n",
    "            bacnet.time_sync(destination=address)\n",
    "            print(\"✅ time_sync() command sent.\")\n",
    "        except Exception as e:\n",
    "            print(f\"⚠️  time_sync() failed: {e}\")\n",
    "\n",
    "        try:\n",
    "            time_after = bacnet.read(f\"{address} device 1 localTime\")\n",
    "            date_after = bacnet.read(f\"{address} device 1 localDate\")\n",
    "            print(f\"📆 Device time after sync: {date_after} {time_after}\")\n",
    "        except:\n",
    "            print(\"⏱️  Post-sync time read skipped (not supported).\")\n",
    "\n",
    "    except Exception as e:\n",
    "        print(f\"[ERROR] test_time_sync: {e}\")\n",
    "\n",
    "def explore_all_objects(bacnet, address):\n",
    "    print(f\"\\n🧠 Exploring all objects at {address}\")\n",
    "    try:\n",
    "        object_list = bacnet.read(f\"{address} device 1 objectList\")\n",
    "    except Exception as e:\n",
    "        print(f\"[ERROR] Failed to get object list: {e}\")\n",
    "        return\n",
    "\n",
    "    for obj_type, instance in object_list:\n",
    "        print(f\"\\n🔎 {obj_type} {instance}\")\n",
    "        for prop in ['presentValue', 'description', 'units', 'statusFlags', 'objectName']:\n",
    "            try:\n",
    "                value = bacnet.read(f\"{address} {obj_type} {instance} {prop}\")\n",
    "                print(f\"  - {prop}: {value}\")\n",
    "            except:\n",
    "                pass  # Skip unsupported properties silently\n",
    "\n",
    "# ========================== Run All ==========================\n",
    "\n",
    "def main():\n",
    "    discover_devices(bacnet)\n",
    "    summarize_devices(bacnet)\n",
    "    list_known_networks(bacnet)\n",
    "    show_routing_table(bacnet)\n",
    "\n",
    "    address = \"192.168.1.66:55099\"\n",
    "\n",
    "    discover_object_types(bacnet, address)\n",
    "    read_analog_inputs(bacnet, address)\n",
    "    test_read_status(bacnet, address)\n",
    "    test_time_sync(bacnet, address)\n",
    "    explore_all_objects(bacnet, address)\n",
    "\n",
    "    bacnet.disconnect()\n",
    "    print(\"\\n🔌 BACnet disconnected. All tasks complete.\")\n",
    "\n",
    "if __name__ == \"__main__\":\n",
    "    main()\n"
   ]
  },
  {
   "cell_type": "markdown",
   "id": "7ea4d42f",
   "metadata": {},
   "source": [
    "### Useful tutorials on BACnet:\n",
    "\n",
    "- Part 1-What is BACnet: https://www.youtube.com/watch?v=oevGXrkxEos\n",
    "- Part 2-Device modeling: https://www.youtube.com/watch?v=DEzpUCC3TDI\n",
    "- Part 3-Network Types: https://www.youtube.com/watch?v=cM4KVD1119o\n",
    "- Part 4-BACnet services: https://www.youtube.com/watch?v=a3TuEypguy8\n",
    "- Part 5-Interoperability: https://www.youtube.com/watch?v=-th7dJsrn74\n",
    "- Part 6-BACnet BIBBs: https://www.youtube.com/watch?v=hgO9ae-bTIg\n",
    "- Part 7-BACnet Device Profiles: https://www.youtube.com/watch?v=A1gAntcENFI\n",
    "- Part 8-BACnet compliance: https://www.youtube.com/watch?v=zVa-Xb8tTDc"
   ]
  }
 ],
 "metadata": {
  "kernelspec": {
   "display_name": "finance_py37",
   "language": "python",
   "name": "finance_py37"
  },
  "language_info": {
   "codemirror_mode": {
    "name": "ipython",
    "version": 3
   },
   "file_extension": ".py",
   "mimetype": "text/x-python",
   "name": "python",
   "nbconvert_exporter": "python",
   "pygments_lexer": "ipython3",
   "version": "3.7.7"
  }
 },
 "nbformat": 4,
 "nbformat_minor": 5
}
